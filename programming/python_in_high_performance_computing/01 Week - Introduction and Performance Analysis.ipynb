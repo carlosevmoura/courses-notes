{
 "cells": [
  {
   "cell_type": "markdown",
   "metadata": {},
   "source": [
    "# 01 Week - Introduction and Performance Analysis"
   ]
  },
  {
   "cell_type": "markdown",
   "metadata": {},
   "source": [
    "## Using applications own timers\n",
    "\n",
    "Python standard library has a time module which provides various time-related functions. In particular the time.process_time function can be used for measuring a specific region:"
   ]
  },
  {
   "cell_type": "code",
   "execution_count": 10,
   "metadata": {},
   "outputs": [
    {
     "output_type": "stream",
     "name": "stdout",
     "text": "Time spent 0.20189900000000005\n"
    }
   ],
   "source": [
    "from math import exp, sin\n",
    "import time\n",
    "\n",
    "def calculate(a):\n",
    "    result = 0\n",
    "    for val in a:\n",
    "        result += exp(val) * sin(val)\n",
    "    return result\n",
    "\n",
    "x = [0.1 * i for i in range(1000)]\n",
    "t0 = time.process_time()\n",
    "\n",
    "for r in range(1000):\n",
    "    calculate(x)\n",
    "t1 = time.process_time()\n",
    "\n",
    "print(\"Time spent\", t1 - t0)"
   ]
  },
  {
   "cell_type": "markdown",
   "metadata": {},
   "source": [
    "### Timing with a context manager\n",
    "\n",
    "Python context managers provide features for executing functions when entering and exiting a region, using the *with* statement."
   ]
  },
  {
   "cell_type": "code",
   "execution_count": 11,
   "metadata": {},
   "outputs": [
    {
     "output_type": "stream",
     "name": "stdout",
     "text": "Time spent 0.2039689999999994\n"
    }
   ],
   "source": [
    "from math import exp, sin\n",
    "import time\n",
    "\n",
    "class Timer:\n",
    "    def __enter__(self):\n",
    "        self.start = time.process_time()\n",
    "        return self\n",
    "\n",
    "    def __exit__(self, *args):\n",
    "        self.end = time.process_time()\n",
    "        self.interval = self.end - self.start\n",
    "\n",
    "def calculate(a):\n",
    "    result = 0\n",
    "    for val in a:\n",
    "        result += exp(val) * sin(val)\n",
    "    return result\n",
    "\n",
    "x = [0.1 * i for i in range(1000)]\n",
    "with Timer() as t:\n",
    "    for r in range(1000):\n",
    "        calculate(x)\n",
    "print(\"Time spent\", t.interval)"
   ]
  },
  {
   "cell_type": "markdown",
   "metadata": {},
   "source": [
    "## Measuring small code snippets with *timeit*\n",
    "\n",
    "Measuring very short execution times has some pitfalls that can be avoided with the help of the *timeit* Python module."
   ]
  },
  {
   "cell_type": "code",
   "execution_count": 12,
   "metadata": {},
   "outputs": [
    {
     "output_type": "stream",
     "name": "stdout",
     "text": "71.3 ns ± 1.28 ns per loop (mean ± std. dev. of 7 runs, 10000000 loops each)\n73.1 ns ± 0.625 ns per loop (mean ± std. dev. of 7 runs, 10000000 loops each)\n"
    }
   ],
   "source": [
    "from math import sin, cos\n",
    "\n",
    "%timeit sin(0.2)\n",
    "\n",
    "%timeit cos(0.2)"
   ]
  },
  {
   "cell_type": "code",
   "execution_count": null,
   "metadata": {},
   "outputs": [],
   "source": []
  }
 ],
 "metadata": {
  "language_info": {
   "codemirror_mode": {
    "name": "ipython",
    "version": 3
   },
   "file_extension": ".py",
   "mimetype": "text/x-python",
   "name": "python",
   "nbconvert_exporter": "python",
   "pygments_lexer": "ipython3",
   "version": "3.7.7-final"
  },
  "orig_nbformat": 2,
  "kernelspec": {
   "name": "python37764bit3daf7f2a1aa84ba1818cf25406a5c2a6",
   "display_name": "Python 3.7.7 64-bit"
  }
 },
 "nbformat": 4,
 "nbformat_minor": 2
}